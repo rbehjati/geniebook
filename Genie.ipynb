{
 "cells": [
  {
   "cell_type": "markdown",
   "metadata": {},
   "source": [
    "# Introduction\n",
    "This notebook is designed to help you get familiar with combinatorial testing, throught a few simple examples. \n",
    "We use [Genie](https://github.com/rbehjati/genie), which is a java wrapper around [jenny](http://burtleburtle.net/bob/math/jenny.html),\n",
    "a combinatorial test case generator, written in C.\n",
    "You can add *Genie* to your own java project using the following maven dependency:\n",
    "```\n",
    "<dependency>\n",
    "  <groupId>io.github.rbehjati</groupId>\n",
    "  <artifactId>genie</artifactId>\n",
    "  <version>0.1.0</version>\n",
    "</dependency>\n",
    "```         \n",
    "## Content\n",
    "We will start with an example, where we create all combiantions for simple model.\n",
    "\n",
    "The next example shows the use of t-wise testing, which is based on the idea that the number of test cases can be drastically reduced by focusing on covering interactions of subsets of parameters (or factors), as opposed to covering all combinations.\n",
    "\n",
    "The last example shows the use of constraints."
   ]
  },
  {
   "cell_type": "code",
   "execution_count": 39,
   "metadata": {},
   "outputs": [
    {
     "data": {
      "application/vnd.jupyter.widget-view+json": {
       "model_id": "28041bca-fa52-4277-b0ed-499086228902",
       "version_major": 2,
       "version_minor": 0
      },
      "method": "display_data"
     },
     "metadata": {},
     "output_type": "display_data"
    },
    {
     "data": {
      "application/vnd.jupyter.widget-view+json": {
       "model_id": "d26e1b32-5f1d-481c-937f-e2d00e8dd177",
       "version_major": 2,
       "version_minor": 0
      },
      "method": "display_data"
     },
     "metadata": {},
     "output_type": "display_data"
    },
    {
     "data": {
      "application/vnd.jupyter.widget-view+json": {
       "model_id": "795bfd59-814a-4267-805b-dbd944c31b34",
       "version_major": 2,
       "version_minor": 0
      },
      "method": "display_data"
     },
     "metadata": {},
     "output_type": "display_data"
    },
    {
     "data": {
      "application/vnd.jupyter.widget-view+json": {
       "model_id": "6b2da0f3-1ff3-432e-8061-a653e04e97a1",
       "version_major": 2,
       "version_minor": 0
      },
      "method": "display_data"
     },
     "metadata": {},
     "output_type": "display_data"
    }
   ],
   "source": [
    "%classpath add mvn io.github.rbehjati:genie:0.1.0\n",
    "%classpath add mvn junit:junit:4.12\n",
    "%classpath add mvn org.assertj:assertj-core:3.8.0"
   ]
  },
  {
   "cell_type": "markdown",
   "metadata": {},
   "source": [
    "## Example 1: All combinations\n",
    "This simple example shows how *Genie* can be used to generate all combinations for a model with three factors, **age**, **gender**, and **citizenship**. Age has three values (representing equivalence classes), and each of gender and citizenship has two possible values. \n",
    "Therefore, we expect the generator to generate 12 combinations."
   ]
  },
  {
   "cell_type": "code",
   "execution_count": 54,
   "metadata": {},
   "outputs": [
    {
     "name": "stdout",
     "output_type": "stream",
     "text": [
      "Total numebr of combinations: 12\n"
     ]
    },
    {
     "data": {
      "text/plain": [
       "null"
      ]
     },
     "execution_count": 54,
     "metadata": {},
     "output_type": "execute_result"
    }
   ],
   "source": [
    "import io.rbehjati.genie.CombinationGenerator;\n",
    "import io.rbehjati.genie.model.Combination;\n",
    "import io.rbehjati.genie.model.Factor;\n",
    "\n",
    "import java.util.Arrays;\n",
    "import java.util.List; \n",
    "\n",
    "\n",
    "CombinationGenerator generator = new CombinationGenerator();\n",
    "\n",
    "Factor age = new Factor(\"age\", \"<18\", \"18-33\", \">33\");\n",
    "Factor gender = new Factor(\"gender\", \"male\", \"female\");\n",
    "Factor citizenship = new Factor(\"citizenship\", \"European\", \"non-European\");\n",
    "\n",
    "int t = 3;\n",
    "List<Combination> combinations = generator.generateCombinations(3, Arrays.asList(age, gender, citizenship));\n",
    "System.out.println(\"Total numebr of combinations: \" + combinations.size());\n"
   ]
  },
  {
   "cell_type": "markdown",
   "metadata": {},
   "source": [
    "## Example 2: Pairwise combinations\n",
    "\n",
    "This example shows how the use of t-wise testing can reduce the number of test cases.\n",
    "In this example we want to use t-wise testing to write test cases for a tiny library that allows specifying and manipulating logical formulas and converting them to disjunctive normal form. The code for this library can be found in the resources folder: `resources/dnf`.\n",
    "There are two classes in this library: Literal and DisjunctiveNormalForm. "
   ]
  },
  {
   "cell_type": "code",
   "execution_count": 55,
   "metadata": {},
   "outputs": [],
   "source": [
    "%classpath add jar ./resources/dnf-0.0.1-SNAPSHOT.jar"
   ]
  },
  {
   "cell_type": "markdown",
   "metadata": {},
   "source": [
    "### Test case\n",
    "Here is the test code. The class has two helper methods for convrting combinations into instances of DisjunctiveNormalForm, and calculating the expectdResults for each combination.\n",
    "\n",
    "Test cases are generated using the combinatorial test case generator.\n",
    "Here we have three factors, and use parwise testing. A total of 5 test cases are generated and executed, showing that the DisjunctiveNormalForm does not correctly convert all formulas into minimal disjunctive normal forms!\n",
    "\n",
    "The source code in `resources/dnf` contains an improved version of DisjunctiveNormalForm (i.e., `io.rbehjati.dnf.v2.DisjunctiveNormalForm`) that can correctly handle these cases. "
   ]
  },
  {
   "cell_type": "code",
   "execution_count": 71,
   "metadata": {},
   "outputs": [
    {
     "data": {
      "text/plain": [
       "com.twosigma.beaker.javash.bkr489c24e7.DisjunctiveNormalFormTest"
      ]
     },
     "execution_count": 71,
     "metadata": {},
     "output_type": "execute_result"
    }
   ],
   "source": [
    "import static org.assertj.core.api.Assertions.assertThat;\n",
    "import io.rbehjati.genie.CombinationGenerator;\n",
    "import io.rbehjati.genie.model.Combination;\n",
    "import io.rbehjati.genie.model.Factor;\n",
    "import io.rbehjati.dnf.v1.*;\n",
    "import java.util.*;\n",
    "\n",
    "public class DisjunctiveNormalFormTest{\n",
    "    \n",
    "    public static Factor lhs = new Factor(\"lhs\", \"a.b\", \"a + c\");\n",
    "    public static Factor rhs = new Factor(\"rhs\", \"a.b\", \"a + c\");\n",
    "    public static Factor lhsNeg = new Factor(\"lhsNeg\", \"yes\", \"no\");\n",
    "\n",
    "    public void testCombinations(){\n",
    "        \n",
    "        CombinationGenerator generator = new CombinationGenerator();\n",
    "        List<Combination> combinations = generator.generateCombinations(2, Arrays.asList(lhs, rhs, lhsNeg));\n",
    "\n",
    "        combinations.forEach(c -> {\n",
    "            DisjunctiveNormalForm lhsVal = parse(c.getEquivalenceClass(lhs));\n",
    "            DisjunctiveNormalForm rhsVal = parse(c.getEquivalenceClass(rhs));\n",
    "            String lhsIsNeg = c.getEquivalenceClass(Helper.lhsNeg);\n",
    "            if(\"yes\".equals(lhsIsNeg)){\n",
    "                lhsVal = lhsVal.negate();\n",
    "            }\n",
    "\n",
    "            DisjunctiveNormalForm implication = DisjunctiveNormalForm.or(lhsVal.negate(), rhsVal);\n",
    "\n",
    "            try {\n",
    "                assertThat(implication.toString()).isEqualTo(expectedResult(c));\n",
    "            } catch(Error e){\n",
    "                System.err.println(e.getMessage());\n",
    "            }\n",
    "        });\n",
    "    }\n",
    "    \n",
    "    private String expectedResult(Combination combination) {\n",
    "        String lhsVal = combination.getEquivalenceClass(lhs);\n",
    "        String rhsVal = combination.getEquivalenceClass(rhs);\n",
    "        String lhsIsNeg = combination.getEquivalenceClass(lhsNeg);\n",
    "\n",
    "        if (lhsVal.equals(rhsVal)) {\n",
    "            if (\"no\".equals(lhsIsNeg)) {\n",
    "                return \"\"; // a tautology\n",
    "            } else {\n",
    "                return rhsVal;\n",
    "            }\n",
    "        }\n",
    "\n",
    "        if (\"yes\".equals(lhsIsNeg)) {\n",
    "            return \"a + c\";\n",
    "        }\n",
    "\n",
    "        if(\"a.b\".equals(lhsVal)){\n",
    "            return \"!b + c\";\n",
    "        }\n",
    "        return \"!a.!c + a.b\";\n",
    "    }\n",
    "\n",
    "    private DisjunctiveNormalForm parse(String dnf) {\n",
    "        if (\"a.b\".equals(dnf)) {\n",
    "            return DisjunctiveNormalForm.and(new Literal(\"a\"), new Literal(\"b\"));\n",
    "        } else if (\"a + c\".equals(dnf)) {\n",
    "            return DisjunctiveNormalForm.or(new Literal(\"a\"), new Literal(\"c\"));\n",
    "        } else {\n",
    "            return DisjunctiveNormalForm.or(new Literal(dnf));\n",
    "        }\n",
    "    }\n",
    "}\n"
   ]
  },
  {
   "cell_type": "markdown",
   "metadata": {},
   "source": [
    "## Literature\n",
    "\n",
    "1. [Pairwise Testing in Real World](http://www.pairwise.org/docs/pnsqc2006/PNSQC%20140%20-%20Jacek%20Czerwonka%20-%20Pairwise%20Testing%20-%20BW.pdf)<br/>\n",
    "This article explains some of the practical issues of combinatorial testing in practice, and presents possible solutions to them.\n",
    "2. [Pairwise Testing: A Best Practice That Isn’t](http://testingeducation.org/BBST/testdesign/Bach_PairwisePNSQC2004.pdf)<br/> \n",
    "This article explains some of the mythes about pariwise testing, and presents, among other things, a list of reasons where pairwise testing, if misformulated, may fail."
   ]
  }
 ],
 "metadata": {
  "kernelspec": {
   "display_name": "Java",
   "language": "java",
   "name": "java"
  },
  "language_info": {
   "codemirror_mode": "text/x-java",
   "file_extension": ".java",
   "mimetype": "",
   "name": "Java",
   "nbconverter_exporter": "",
   "version": "1.8.0_121"
  },
  "toc": {
   "base_numbering": 1,
   "nav_menu": {},
   "number_sections": false,
   "sideBar": false,
   "skip_h1_title": false,
   "title_cell": "Table of Contents",
   "title_sidebar": "Contents",
   "toc_cell": false,
   "toc_position": {},
   "toc_section_display": false,
   "toc_window_display": false
  }
 },
 "nbformat": 4,
 "nbformat_minor": 2
}
